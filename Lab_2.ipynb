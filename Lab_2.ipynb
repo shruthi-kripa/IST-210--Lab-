{
  "nbformat": 4,
  "nbformat_minor": 0,
  "metadata": {
    "colab": {
      "name": "IST Lab 2.ipynb",
      "provenance": [],
      "authorship_tag": "ABX9TyP4aDmLSYovDE0sg7fhPhZc",
      "include_colab_link": true
    },
    "kernelspec": {
      "name": "python3",
      "display_name": "Python 3"
    }
  },
  "cells": [
    {
      "cell_type": "markdown",
      "metadata": {
        "id": "view-in-github",
        "colab_type": "text"
      },
      "source": [
        "<a href=\"https://colab.research.google.com/github/shruthi-kripa/IST-210--Lab-/blob/master/Lab_2.ipynb\" target=\"_parent\"><img src=\"https://colab.research.google.com/assets/colab-badge.svg\" alt=\"Open In Colab\"/></a>"
      ]
    },
    {
      "cell_type": "markdown",
      "metadata": {
        "id": "LDomMlB9gR5o",
        "colab_type": "text"
      },
      "source": [
        "![alt text](https://raw.githubusercontent.com/shruthi-kripa/IST-210/master/Labs/IST%20Lab%202.png)"
      ]
    }
  ]
}